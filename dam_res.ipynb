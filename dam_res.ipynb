{
 "cells": [
  {
   "cell_type": "code",
   "execution_count": 2,
   "metadata": {},
   "outputs": [
    {
     "name": "stdout",
     "output_type": "stream",
     "text": [
      "current: 1875000000.0\n"
     ]
    }
   ],
   "source": [
    "dam_cap=250e100\n",
    "holds=199.5e85\n",
    "rain=25e8\n",
    "rainoff=rain-rain*0.25\n",
    "heavystrom=rainoff+rain*0.15\n",
    "groundwater=heavystrom+rain*0.05\n",
    "evp_irri=groundwater-rain*0.15-rain*0.05\n",
    "print(\"current:\",evp_irri)"
   ]
  },
  {
   "cell_type": "code",
   "execution_count": null,
   "metadata": {},
   "outputs": [],
   "source": []
  }
 ],
 "metadata": {
  "kernelspec": {
   "display_name": "Python 3",
   "language": "python",
   "name": "python3"
  },
  "language_info": {
   "codemirror_mode": {
    "name": "ipython",
    "version": 3
   },
   "file_extension": ".py",
   "mimetype": "text/x-python",
   "name": "python",
   "nbconvert_exporter": "python",
   "pygments_lexer": "ipython3",
   "version": "3.8.3"
  }
 },
 "nbformat": 4,
 "nbformat_minor": 4
}
