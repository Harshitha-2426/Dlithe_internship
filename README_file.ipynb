{
 "cells": [
  {
   "cell_type": "markdown",
   "metadata": {},
   "source": [
    "# Diagnosing Chronic Kidney Disease (CKD) with 100% Accuracy"
   ]
  },
  {
   "cell_type": "markdown",
   "metadata": {},
   "source": [
    "# #Introduction"
   ]
  },
  {
   "cell_type": "markdown",
   "metadata": {},
   "source": [
    "Abstract— Chronic kidney disease (CKD), also known chronic renal disease. Chronic kidney disease involves conditions that damage your kidneys and decrease their ability to keep you healthy. You may develop complications like high\n",
    "blood pressure, anemia (low blood count), weak bones, poor nutritional health and nerve damage. . Early detection and treatment can often keep chronic kidney disease from getting worse. \n",
    "Data Mining is the term used for knowledge discovery from large databases. The task of data mining is to make use of historical data, to discover regular patterns and improve future\n",
    "decisions, follows from the convergence of several recent trends: the lessening cost of large data storage devices and the everincreasing ease of collecting data over networks; the expansion\n",
    "of robust and efficient machine learning algorithms to process this data; and the lessening cost of computational power, enabling use of computationally intensive methods for data\n",
    "analysis. \n",
    "Machine learning, has already created practical applications in such areas as analyzing medical science outcomes, detecting fraud, detecting fake users etc. Various data\n",
    "mining classification approaches and machine learning algorithms are applied for prediction of chronic diseases. The objective of this research work is to introduce a new decision\n",
    "support system to predict chronic kidney disease."
   ]
  },
  {
   "cell_type": "markdown",
   "metadata": {},
   "source": [
    "Attribute Information: Matrix column entries (attributes): -->The age of person-age, -->blood pressure level-bp, -->Sugar level-su, -->Specific gravity-sg, -->Red blood cells-rgb, -->pus cell-pc, -->pus cell clumps-pcc, -->Blood gulcose random-bgr, -->Blood Urea-Bu, -->Bacteria-Ba, -->Serum Creatinine-sc, -->Sodium-sod, -->Potassium-pot, -->Hemoglobin-hemo, -->Packed cell volume-pcv, -->White Blood cell count-wbcc, -->Red Blood cell count-rbcc, -->Hypertension-htn, -->Diabetes Mellitus-dm, -->Coronary Artery Disease-cad, -->Appetite-appet, -->Pedal Edema-pe, -->Anemia-ane, -->classes-Target"
   ]
  },
  {
   "cell_type": "markdown",
   "metadata": {},
   "source": [
    "# Summary"
   ]
  },
  {
   "cell_type": "markdown",
   "metadata": {},
   "source": [
    "In this project, I use Logistic Regression and K-Nearest Neighbors (KNN) to diagnose CKD. Both were able to classify patients with 100% accuracy.\n",
    "\n",
    "KNN required class balancing, scaling, and model tuning to perform with 100% accuracy, while Logistic Regression was 100% accurate without tuning (note: still had to stratify the train test split).\n",
    "\n",
    "Logistic Regression is deemed a better model for this case, because in addition to being 100% accurate, it also allows us to quantify the impact of unit increases in specific variables on likelihood of having CKD."
   ]
  },
  {
   "cell_type": "markdown",
   "metadata": {},
   "source": [
    "# Algorithm used - K-nearest neighbor Classification"
   ]
  },
  {
   "cell_type": "markdown",
   "metadata": {},
   "source": [
    "In pattern recognition, the K-Nearest Neighbor algorithm (K-NN) is a non-parametric method used for classification and regression. In both cases, the input consists of the K closest training examples in the feature space.\n",
    "K-NN is a type of instance-based learning. In KNN Classification, the output is a class membership. Classification\n",
    "is done by a majority vote of neighbours. If K = 1, then the class is single nearest neighbor.\n",
    "In a common weighting scheme, individual neighbour is assigned to a weight of 1/d if d is the distance to the neighbour. \n",
    "The shortest distance between any two neighbours is always a straight line and the distance is known as Euclidean distance. \n",
    "The limitation of the K-NN algorithm is it’s sensitive to the local configuration of the data. \n",
    "The process of transforming the input data to a set of features is known as Feature extraction. \n",
    "In Feature space, extraction is taken place on raw data before applying K-NN algorithm."
   ]
  },
  {
   "cell_type": "markdown",
   "metadata": {},
   "source": [
    "# Datasets and Preprocessing\n"
   ]
  },
  {
   "cell_type": "markdown",
   "metadata": {},
   "source": [
    "The datasets are extracted from UCI Machine learning repository benchmarks.\n",
    "The UCI Machine Learning Repository is a collection of databases, domain theories, and data generators that are used by\n",
    "the machine learning community for the empirical analysis of machine learning algorithms.\n",
    "\n"
   ]
  },
  {
   "cell_type": "code",
   "execution_count": null,
   "metadata": {},
   "outputs": [],
   "source": []
  }
 ],
 "metadata": {
  "kernelspec": {
   "display_name": "Python 3",
   "language": "python",
   "name": "python3"
  },
  "language_info": {
   "codemirror_mode": {
    "name": "ipython",
    "version": 3
   },
   "file_extension": ".py",
   "mimetype": "text/x-python",
   "name": "python",
   "nbconvert_exporter": "python",
   "pygments_lexer": "ipython3",
   "version": "3.8.3"
  }
 },
 "nbformat": 4,
 "nbformat_minor": 4
}
